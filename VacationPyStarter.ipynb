{
 "cells": [
  {
   "cell_type": "code",
   "execution_count": null,
   "metadata": {},
   "outputs": [],
   "source": [
    "pip install google-api-python-client"
   ]
  },
  {
   "cell_type": "markdown",
   "metadata": {},
   "source": [
    "# VacationPy\n",
    "----\n",
    "\n",
    "#### Note\n",
    "* Keep an eye on your API usage. Use https://developers.google.com/maps/reporting/gmp-reporting as reference for how to monitor your usage and billing.\n",
    "\n",
    "* Instructions have been included for each segment. You do not have to follow them exactly, but they are included to help you think through the steps."
   ]
  },
  {
   "cell_type": "code",
   "execution_count": null,
   "metadata": {},
   "outputs": [],
   "source": [
    "# Dependencies and Setup\n",
    "import matplotlib.pyplot as plt\n",
    "import pandas as pd\n",
    "import numpy as np\n",
    "import requests\n",
    "import gmaps\n",
    "import os\n",
    "import csv\n",
    "import gmaps.datasets\n",
    "# Import API key\n",
    "from api_keys import gkey\n",
    "import json\n",
    "import time"
   ]
  },
  {
   "cell_type": "markdown",
   "metadata": {},
   "source": [
    "### Store Part I results into DataFrame\n",
    "* Load the csv exported in Part I to a DataFrame"
   ]
  },
  {
   "cell_type": "code",
   "execution_count": null,
   "metadata": {},
   "outputs": [],
   "source": [
    "cities_df = pd.read_csv('cities.csv')\n",
    "\n",
    "cities_df"
   ]
  },
  {
   "cell_type": "markdown",
   "metadata": {},
   "source": [
    "### Humidity Heatmap\n",
    "* Configure gmaps.\n",
    "* Use the Lat and Lng as locations and Humidity as the weight.\n",
    "* Add Heatmap layer to map."
   ]
  },
  {
   "cell_type": "code",
   "execution_count": null,
   "metadata": {},
   "outputs": [],
   "source": [
    "gmap_key = gmaps.configure(api_key = gkey)"
   ]
  },
  {
   "cell_type": "code",
   "execution_count": null,
   "metadata": {},
   "outputs": [],
   "source": [
    "glocs = cities_df[['Lat', 'Lng']]\n",
    "Weights = cities_df['Humidity']"
   ]
  },
  {
   "cell_type": "code",
   "execution_count": null,
   "metadata": {},
   "outputs": [],
   "source": [
    "\n",
    "google_maps = gmaps.figure()\n",
    "\n",
    "google_maps.add_layer(gmaps.heatmap_layer(glocs, weights = Weights))\n",
    "google_maps\n",
    "plt.savefig('Resources/heatmap.png', dpi=300, bbox_inches='tight')\n"
   ]
  },
  {
   "cell_type": "markdown",
   "metadata": {},
   "source": [
    "### Create new DataFrame fitting weather criteria\n",
    "* Narrow down the cities to fit weather conditions.\n",
    "* Drop any rows will null values."
   ]
  },
  {
   "cell_type": "code",
   "execution_count": null,
   "metadata": {},
   "outputs": [],
   "source": [
    "clean_city_df = cities_df.loc[(cities_df['Max Temp']>=70) & (cities_df['Max Temp']<=80)\n",
    "                           & (cities_df['Cloudiness']==0) & (cities_df['Wind Speed']<=10)].dropna()\n",
    " \n",
    "# city_temps = city_temps.loc[city_temps['Cloudiness']==0]\n",
    "# city_temps = city_temps.loc[city_temps['Wind Speed']<=10]\n",
    "\n",
    "# clean_city_df = city_temps.dropna()\n",
    "clean_city_df\n",
    "                                                         \n",
    "                                                         \n",
    "                                                         "
   ]
  },
  {
   "cell_type": "markdown",
   "metadata": {},
   "source": [
    "### Hotel Map\n",
    "* Store into variable named `hotel_df`.\n",
    "* Add a \"Hotel Name\" column to the DataFrame.\n",
    "* Set parameters to search for hotels with 5000 meters.\n",
    "* Hit the Google Places API for each city's coordinates.\n",
    "* Store the first Hotel result into the DataFrame.\n",
    "* Plot markers on top of the heatmap."
   ]
  },
  {
   "cell_type": "code",
   "execution_count": null,
   "metadata": {},
   "outputs": [],
   "source": [
    "hotel_df = clean_city_df\n",
    "hotel_df['Hotel Name']= \"\"\n",
    "hotel_df\n",
    "\n"
   ]
  },
  {
   "cell_type": "code",
   "execution_count": null,
   "metadata": {},
   "outputs": [],
   "source": [
    "#create params dict for each Iteration of hotel name\n",
    "\n",
    "params = {\n",
    "    'radius': 5000,\n",
    "    'types': 'lodging',\n",
    "    'key': gkey\n",
    "    \n",
    "}\n",
    "    \n",
    "    #find lat and long\n",
    "    #get location based on parameters \n",
    "    #search on url and make request\n",
    "    #convert to json\n",
    "    #grab hotel and store results\n",
    "\n",
    "    \n",
    "for index,row in hotel_df.iterrows():\n",
    "    hotel_url = url\n",
    "    latitude= row['Lat']\n",
    "    longitude=row['Lng']\n",
    "    params['location'] = f\"{latitude},{longitude}\"\n",
    "    hotel_resp = requests.get(hotel_url , params = params)\n",
    "    hotel_json = hotel_resp.json()    \n",
    "    \n",
    "    try:\n",
    "        hotel_resp = requests.get(hotel_url, params = params)\n",
    "        hotel_json = hotel_resp.json()\n",
    "        hotel_df.loc[index, 'Hotel Name'] = hotel_json['results'][0]['name']\n",
    "        print('Hotel is found!')\n",
    "    except (KeyError, IndexError):\n",
    "        print('Hotel not there!')\n",
    "        \n",
    "        \n",
    "   \n",
    "    time.sleep(1)\n"
   ]
  },
  {
   "cell_type": "code",
   "execution_count": null,
   "metadata": {},
   "outputs": [],
   "source": [
    "url = 'https://maps.googleapis.com/maps/api/place/nearbysearch/json'\n",
    "print(hotel_url)"
   ]
  },
  {
   "cell_type": "code",
   "execution_count": null,
   "metadata": {},
   "outputs": [],
   "source": [
    "print(hotel_json)"
   ]
  },
  {
   "cell_type": "code",
   "execution_count": null,
   "metadata": {},
   "outputs": [],
   "source": [
    "print(params)"
   ]
  },
  {
   "cell_type": "code",
   "execution_count": null,
   "metadata": {},
   "outputs": [],
   "source": [
    "hotel_df\n"
   ]
  },
  {
   "cell_type": "code",
   "execution_count": null,
   "metadata": {},
   "outputs": [],
   "source": [
    "# NOTE: Do not change any of the code in this cell\n",
    "\n",
    "# Using the template add the hotel marks to the heatmap\n",
    "info_box_template = \"\"\"\n",
    "<dl>\n",
    "<dt>Name</dt><dd>{Hotel Name}</dd>\n",
    "<dt>City</dt><dd>{City}</dd>\n",
    "<dt>Country</dt><dd>{Country}</dd>\n",
    "</dl>\n",
    "\"\"\"\n",
    "# Store the DataFrame Row\n",
    "# NOTE: be sure to update with your DataFrame name\n",
    "hotel_info = [info_box_template.format(**row) for index, row in hotel_df.iterrows()]\n",
    "locations = hotel_df[[\"Lat\", \"Lng\"]]"
   ]
  },
  {
   "cell_type": "code",
   "execution_count": null,
   "metadata": {},
   "outputs": [],
   "source": [
    "# Add marker layer ontop of heat map\n",
    "gmaps.configure(api_key=gkey)\n",
    "\n",
    "hotel_locations = (locations)\n",
    "    \n",
    "\n",
    "\n",
    "hfig = gmaps.figure()\n",
    "markers = gmaps.marker_layer(hotel_locations)\n",
    "hfig.add_layer(markers)\n",
    "hfig\n",
    "plt.savefig('Resources/hfig.png', dpi=300, bbox_inches='tight')\n",
    "\n",
    "#layer(info_box_template, weights = locations))\n",
    "\n",
    "# Display figure\n"
   ]
  },
  {
   "cell_type": "code",
   "execution_count": null,
   "metadata": {},
   "outputs": [],
   "source": []
  }
 ],
 "metadata": {
  "kernelspec": {
   "display_name": "Python 3 (ipykernel)",
   "language": "python",
   "name": "python3"
  },
  "language_info": {
   "codemirror_mode": {
    "name": "ipython",
    "version": 3
   },
   "file_extension": ".py",
   "mimetype": "text/x-python",
   "name": "python",
   "nbconvert_exporter": "python",
   "pygments_lexer": "ipython3",
   "version": "3.8.13"
  },
  "latex_envs": {
   "LaTeX_envs_menu_present": true,
   "autoclose": false,
   "autocomplete": true,
   "bibliofile": "biblio.bib",
   "cite_by": "apalike",
   "current_citInitial": 1,
   "eqLabelWithNumbers": true,
   "eqNumInitial": 1,
   "hotkeys": {
    "equation": "Ctrl-E",
    "itemize": "Ctrl-I"
   },
   "labels_anchors": false,
   "latex_user_defs": false,
   "report_style_numbering": false,
   "user_envs_cfg": false
  }
 },
 "nbformat": 4,
 "nbformat_minor": 4
}
