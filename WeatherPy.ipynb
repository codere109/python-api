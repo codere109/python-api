{
 "cells": [
  {
   "cell_type": "code",
   "execution_count": null,
   "metadata": {},
   "outputs": [],
   "source": [
    "pip install citipy"
   ]
  },
  {
   "cell_type": "code",
   "execution_count": null,
   "metadata": {},
   "outputs": [],
   "source": [
    "import pandas as pd\n",
    "import requests\n",
    "import json\n",
    "import matplotlib.pyplot as plt\n",
    "from api_keys import api_key\n",
    "import numpy as np\n",
    "from citipy import citipy\n",
    "from scipy import stats\n",
    "import csv\n",
    "import seaborn as sns\n",
    "\n",
    "url = 'http://api.openweathermap.org/data/2.5/weather?units=Imperial&APPID='+api_key\n",
    "\n"
   ]
  },
  {
   "cell_type": "code",
   "execution_count": null,
   "metadata": {},
   "outputs": [],
   "source": [
    "url"
   ]
  },
  {
   "cell_type": "code",
   "execution_count": null,
   "metadata": {},
   "outputs": [],
   "source": [
    "lat = np.random.uniform(low=-90, high=90, size=300)\n"
   ]
  },
  {
   "cell_type": "code",
   "execution_count": null,
   "metadata": {},
   "outputs": [],
   "source": [
    "long = np.random.uniform(low=-180, high=180, size=300)\n"
   ]
  },
  {
   "cell_type": "code",
   "execution_count": null,
   "metadata": {},
   "outputs": [],
   "source": [
    "# lat_long = []\n",
    "lat_long = zip(lat, long)\n",
    "lat_long = list(lat_long)\n",
    "lat_long"
   ]
  },
  {
   "cell_type": "code",
   "execution_count": null,
   "metadata": {},
   "outputs": [],
   "source": [
    "#create for loop \n",
    "cities = []\n",
    "for coords in lat_long:\n",
    "    city = citipy.nearest_city(coords[0], coords[1]).city_name\n",
    "#create if statement to append city into cities list\n",
    "    if city not in cities:\n",
    "        cities.append(city)\n",
    "print(cities)\n",
    "\n",
    "  \n",
    "    "
   ]
  },
  {
   "cell_type": "code",
   "execution_count": null,
   "metadata": {},
   "outputs": [],
   "source": [
    "#create api call\n",
    "\n",
    "print('Beginning Data Retrieval')\n",
    "print('----------------------------')\n",
    "\n",
    "city_data = []\n",
    "for city in cities:\n",
    "    \n",
    "    # Create search query, make request and store in json\n",
    "    city_url = url + \"&q=\" + city\n",
    "    \n",
    "    #response = requests.get(city_url)\n",
    "    #response_json = response.json()\n",
    "    \n",
    "    \n",
    "    try:\n",
    "        response = requests.get(city_url)\n",
    "        response_json = response.json()\n",
    "        city_lat = response_json[\"coord\"][\"lat\"]\n",
    "        city_long = response_json[\"coord\"][\"lon\"]\n",
    "        #city_name = response_json[\"name\"]\n",
    "        city_weather = response_json[\"main\"]['temp']\n",
    "        city_max_temp = response_json['main']['temp_max']\n",
    "        city_humid = response_json['main']['humidity']\n",
    "        city_ws = response_json['wind']['speed']\n",
    "        city_cloud = response_json['clouds']['all']\n",
    "        city_date = response_json['dt']\n",
    "        ctry_name = response_json['sys']['country']\n",
    "        #city_data.append(response_json['lat'][0]['long'])\n",
    "        city_data.append({'city': city, \n",
    "                          'latitude':city_lat,\n",
    "                          'longitude':city_long,\n",
    "                          'weather': city_weather,\n",
    "                          'max_temp':city_max_temp,\n",
    "                          'humidity': city_humid,\n",
    "                          'windspeed':city_ws,\n",
    "                          'cloudiness': city_cloud,\n",
    "                          'country': ctry_name,\n",
    "                          'date':city_date})\n",
    "        print(f\"{city}, Found!\")\n",
    "        \n",
    "    # Handle exceptions for a character that is not available in the Star Wars API\n",
    "    except:\n",
    "        # Append null values\n",
    "        print(f\"{city}, Not found\")\n",
    "        pass\n",
    "print('--------------------------------')\n",
    "print('Data Retrieval Complete')\n",
    "print('--------------------------------')"
   ]
  },
  {
   "cell_type": "code",
   "execution_count": null,
   "metadata": {},
   "outputs": [],
   "source": [
    "response = requests.get(city_url)\n",
    "response_json = response.json()\n",
    "response_json"
   ]
  },
  {
   "cell_type": "code",
   "execution_count": null,
   "metadata": {},
   "outputs": [],
   "source": [
    "#create dataframe\n",
    "cities_df = pd.DataFrame(city_data)\n",
    "\n",
    "cities_df"
   ]
  },
  {
   "cell_type": "code",
   "execution_count": null,
   "metadata": {},
   "outputs": [],
   "source": [
    "cities_df.describe()"
   ]
  },
  {
   "cell_type": "code",
   "execution_count": null,
   "metadata": {},
   "outputs": [],
   "source": [
    "cities_df.to_csv('Resources/citi_weather.csv')\n"
   ]
  },
  {
   "cell_type": "code",
   "execution_count": null,
   "metadata": {},
   "outputs": [],
   "source": [
    "clean_city_data = cities_df.loc[cities_df['humidity'] <100 ]\n",
    "clean_city_data\n"
   ]
  },
  {
   "cell_type": "code",
   "execution_count": null,
   "metadata": {},
   "outputs": [],
   "source": [
    "#scatter plot\n",
    "first_x = clean_city_data['latitude']\n",
    "first_y = clean_city_data['max_temp']\n",
    "colors = ['green']\n",
    "plt.scatter(first_x, first_y, edgecolors='red', c=colors)\n",
    "plt.title('Max Temperature vs Latitude')\n",
    "plt.xlabel('Latitude')\n",
    "plt.ylabel('Max_Temp')\n",
    "plt.grid()\n",
    "plt.show()\n",
    "\n",
    "plt.savefig('Resources/lat_temp.png')"
   ]
  },
  {
   "cell_type": "code",
   "execution_count": null,
   "metadata": {},
   "outputs": [],
   "source": [
    "plt.savefig('Resources/lat_temp.png')"
   ]
  },
  {
   "cell_type": "code",
   "execution_count": null,
   "metadata": {},
   "outputs": [],
   "source": [
    "#scatter plot\n",
    "first_x = clean_city_data['latitude']\n",
    "first_y = clean_city_data['cloudiness']\n",
    "colors = ['green']\n",
    "plt.scatter(first_x, first_y, edgecolors='red', c=colors)\n",
    "plt.title('Cloudiness vs Latitude')\n",
    "plt.xlabel('Latitude')\n",
    "plt.ylabel('Cloudiness')\n",
    "plt.grid()\n",
    "plt.show()\n",
    "plt.savefig('Resources/lat_cloud.png')"
   ]
  },
  {
   "cell_type": "code",
   "execution_count": null,
   "metadata": {},
   "outputs": [],
   "source": [
    "#scatter plot\n",
    "first_x = clean_city_data['latitude']\n",
    "first_y = clean_city_data['humidity']\n",
    "colors = ['green']\n",
    "plt.scatter(first_x, first_y, edgecolors='red', c=colors)\n",
    "plt.title('Humidity vs Latitude')\n",
    "plt.xlabel('Latitude')\n",
    "plt.ylabel('Humidity')\n",
    "plt.grid()\n",
    "plt.show()\n",
    "\n",
    "plt.savefig('Resources/lat_humid.png')"
   ]
  },
  {
   "cell_type": "code",
   "execution_count": null,
   "metadata": {},
   "outputs": [],
   "source": [
    "#scatter plot\n",
    "first_x = clean_city_data['latitude']\n",
    "first_y = clean_city_data['windspeed']\n",
    "colors = ['green']\n",
    "plt.scatter(first_x, first_y, edgecolors='red', c=colors)\n",
    "plt.title('Windspeed vs Latitude')\n",
    "plt.xlabel('Latitude')\n",
    "plt.ylabel('Windspeed')\n",
    "plt.grid()\n",
    "plt.show()\n",
    "\n",
    "plt.savefig('Resources/lat_wind.png')"
   ]
  },
  {
   "cell_type": "code",
   "execution_count": null,
   "metadata": {},
   "outputs": [],
   "source": [
    "#nothern hemispshere and southern hemisphere code\n",
    "\n",
    "north_hem_df = clean_city_data.loc[clean_city_data[\"latitude\"] >= 0]\n",
    "north_hem_df"
   ]
  },
  {
   "cell_type": "code",
   "execution_count": null,
   "metadata": {},
   "outputs": [],
   "source": [
    "north_temp_x = north_hem_df[\"latitude\"]\n",
    "north_temp_y = north_hem_df[\"max_temp\"]\n",
    "north_temp_line_colors = ['red']\n",
    "north_temp_scat = plt.scatter(north_temp_x, north_temp_y, c= north_temp_line_colors, edgecolors = \"green\")\n",
    "plt.title(\"Northern Hemisphere Latitude vs Max Temp\")\n",
    "plt.xlabel(\"Latitude\")\n",
    "plt.ylabel(\"Max Temperature (F)\")\n",
    "\n",
    "nt = stats.linregress(north_temp_x, north_temp_y)\n",
    "nt_slope = nt.slope\n",
    "nt_int = nt.intercept\n",
    "\n",
    "tformula = north_temp_x * nt_slope + nt_int\n",
    "\n",
    "tequation = \"y = \" + str(round(nt_slope,2)) + \"x + \" + str(round(nt_int,2))\n",
    "\n",
    "plt.annotate(tequation,(0,40),fontsize=15,color=\"red\")\n",
    "plt.plot(north_temp_x, tformula)\n",
    "\n",
    "plt.savefig('Resources/north_temp.png', dpi=300, bbox_inches='tight')\n",
    "plt.show()"
   ]
  },
  {
   "cell_type": "code",
   "execution_count": null,
   "metadata": {},
   "outputs": [],
   "source": [
    "# lr = stats.linregress(north_x_line, north_y_line)\n",
    "# north_slope = lr.slope\n",
    "# north_int = lr.intercept\n",
    "# north_x = north_y_line\n",
    "# formula = north_x * north_slope + north_int\n",
    "# plt.plot(north_x, formula)"
   ]
  },
  {
   "cell_type": "code",
   "execution_count": null,
   "metadata": {},
   "outputs": [],
   "source": [
    "north_hum_x = north_hem_df[\"latitude\"]\n",
    "north_hum_y = north_hem_df[\"humidity\"]\n",
    "north_hum_line_colors = ['orange']\n",
    "north_hum_scat = plt.scatter(north_hum_x, north_hum_y, c= north_hum_line_colors, edgecolors = \"green\")\n",
    "plt.title(\"Northern Hemisphere Latitude vs Humidity\")\n",
    "plt.xlabel(\"Latitude\")\n",
    "plt.ylabel(\"Humidity\")\n",
    "\n",
    "nh = stats.linregress(north_hum_x, north_hum_y)\n",
    "nh_slope = nh.slope\n",
    "nh_int = nh.intercept\n",
    "#north_hum_x = north_x_line\n",
    "hformula = north_hum_x * nh_slope + nh_int\n",
    "\n",
    "hequation = \"y = \" + str(round(nh_slope,2)) + \"x + \" + str(round(nh_int,2))\n",
    "\n",
    "plt.annotate(hequation,(0,40),fontsize=15,color=\"blue\")\n",
    "plt.plot(north_hum_x, hformula)\n",
    "\n",
    "\n",
    "plt.savefig('Resources/north_humid.png', dpi=300, bbox_inches='tight')\n",
    "plt.show()"
   ]
  },
  {
   "cell_type": "code",
   "execution_count": null,
   "metadata": {},
   "outputs": [],
   "source": [
    "north_cloud_x = north_hem_df[\"latitude\"]\n",
    "north_cloud_y = north_hem_df[\"cloudiness\"]\n",
    "north_cloud_colors = ['blue']\n",
    "north_cloud_scat = plt.scatter(north_cloud_x, north_cloud_y, c= north_cloud_colors, edgecolors = \"green\")\n",
    "plt.title(\"Northern Hemisphere Latitude vs Cloudiness\")\n",
    "plt.xlabel(\"Latitude\")\n",
    "plt.ylabel(\"Cloudiness\")\n",
    "\n",
    "nc = stats.linregress(north_cloud_x, north_cloud_y)\n",
    "nc_slope = nc.slope\n",
    "nc_int = nc.intercept\n",
    "#north_x = north_cloud_x\n",
    "cformula = north_cloud_x * nc_slope + nc_int\n",
    "\n",
    "cequation = \"y = \" + str(round(nc_slope,2)) + \"x + \" + str(round(nc_int,2))\n",
    "\n",
    "plt.annotate(cequation,(0,40),fontsize=15,color=\"red\")\n",
    "plt.plot(north_cloud_x, cformula)\n",
    "\n",
    "plt.savefig('Resources/north_cloud.png', dpi=300, bbox_inches='tight')\n",
    "plt.show()\n"
   ]
  },
  {
   "cell_type": "code",
   "execution_count": null,
   "metadata": {},
   "outputs": [],
   "source": [
    "north_wind_x = north_hem_df[\"latitude\"]\n",
    "north_wind_y = north_hem_df[\"windspeed\"]\n",
    "north_wind_line_colors = ['green']\n",
    "north_wind_scat = plt.scatter(north_wind_x, north_wind_y, c= north_wind_line_colors, edgecolors = \"green\")\n",
    "plt.title(\"Northern Hemisphere Latitude vs Windspeed\")\n",
    "plt.xlabel(\"Latitude\")\n",
    "plt.ylabel(\"Windspeed\")\n",
    "\n",
    "nw = stats.linregress(north_wind_x, north_wind_y)\n",
    "nw_slope = nw.slope\n",
    "nw_int = nw.intercept\n",
    "#north_x = north_x_line\n",
    "\n",
    "nwformula = north_wind_x * nw_slope + nw_int\n",
    "\n",
    "nwequation = \"y = \" + str(round(nw_slope,2)) + \"x + \" + str(round(nw_int,2))\n",
    "\n",
    "plt.annotate(nwequation,(0,10),fontsize=15,color=\"red\")\n",
    "plt.plot(north_wind_x, nwformula)\n",
    "\n",
    "\n",
    "plt.savefig('Resources/north_wind.png', dpi=300, bbox_inches='tight')\n",
    "plt.show()"
   ]
  },
  {
   "cell_type": "code",
   "execution_count": null,
   "metadata": {},
   "outputs": [],
   "source": [
    "south_hem_df = clean_city_data.loc[clean_city_data[\"latitude\"] <= 0]\n",
    "south_hem_df"
   ]
  },
  {
   "cell_type": "code",
   "execution_count": null,
   "metadata": {},
   "outputs": [],
   "source": [
    "south_temp_x = south_hem_df[\"latitude\"]\n",
    "south_temp_y = south_hem_df[\"max_temp\"]\n",
    "south_temp_line_colors = ['red']\n",
    "south_temp_scat = plt.scatter(south_temp_x, south_temp_y, c= south_temp_line_colors, edgecolors = \"black\")\n",
    "plt.title(\"Southern Hemisphere Latitude vs Max Temp\")\n",
    "plt.xlabel(\"Latitude\")\n",
    "plt.ylabel(\"Max Temperature (F)\")\n",
    "\n",
    "st = stats.linregress(south_temp_x, south_temp_y)\n",
    "st_slope = st.slope\n",
    "st_int = st.intercept\n",
    "\n",
    "stformula = south_temp_x * st_slope + st_int\n",
    "\n",
    "stequation = \"y = \" + str(round(st_slope,2)) + \"x + \" + str(round(st_int,2))\n",
    "\n",
    "plt.annotate(stequation,(0,80),fontsize=15,color=\"red\")\n",
    "plt.plot(south_temp_x, stformula)\n",
    "\n",
    "plt.savefig('Resources/south_temp.png', dpi=300, bbox_inches='tight')\n",
    "plt.show()"
   ]
  },
  {
   "cell_type": "code",
   "execution_count": null,
   "metadata": {},
   "outputs": [],
   "source": [
    "south_hum_x = south_hem_df[\"latitude\"]\n",
    "south_hum_y = south_hem_df[\"humidity\"]\n",
    "south_hum_line_colors = ['orange']\n",
    "south_hum_scat = plt.scatter(south_hum_x, south_hum_y, c= south_hum_line_colors, edgecolors = \"black\")\n",
    "plt.title(\"Northern Hemisphere Latitude vs Humidity\")\n",
    "plt.xlabel(\"Latitude\")\n",
    "plt.ylabel(\"Humidity\")\n",
    "\n",
    "sh = stats.linregress(south_hum_x, south_hum_y)\n",
    "sh_slope = sh.slope\n",
    "sh_int = sh.intercept\n",
    "#north_hum_x = north_x_line\n",
    "shformula = south_hum_x * sh_slope + sh_int\n",
    "\n",
    "shequation = \"y = \" + str(round(sh_slope,2)) + \"x + \" + str(round(sh_int,2))\n",
    "\n",
    "plt.annotate(shequation,(0,70),fontsize=15,color=\"blue\")\n",
    "plt.plot(south_hum_x, shformula)\n",
    "\n",
    "plt.savefig('Resources/south_humid.png', dpi=300, bbox_inches='tight')\n",
    "plt.show()"
   ]
  },
  {
   "cell_type": "code",
   "execution_count": null,
   "metadata": {},
   "outputs": [],
   "source": [
    "south_cloud_x = south_hem_df[\"latitude\"]\n",
    "south_cloud_y = south_hem_df[\"cloudiness\"]\n",
    "south_cloud_line_colors = ['orange']\n",
    "south_cloud_scat = plt.scatter(south_cloud_x, south_cloud_y, c= south_cloud_line_colors, edgecolors = \"black\")\n",
    "plt.title(\"Northern Hemisphere Latitude vs Cloudniess\")\n",
    "plt.xlabel(\"Latitude\")\n",
    "plt.ylabel(\"Cloudiness\")\n",
    "\n",
    "sc = stats.linregress(south_cloud_x, south_cloud_y)\n",
    "sc_slope = sc.slope\n",
    "sc_int = sc.intercept\n",
    "#north_hum_x = north_x_line\n",
    "scformula = south_cloud_x * sc_slope + sc_int\n",
    "\n",
    "scequation = \"y = \" + str(round(sc_slope,2)) + \"x + \" + str(round(sc_int,2))\n",
    "\n",
    "plt.annotate(scequation,(0,70),fontsize=15,color=\"blue\")\n",
    "plt.plot(south_cloud_x, scformula)\n",
    "\n",
    "plt.savefig('Resources/south_cloud.png', dpi=300, bbox_inches='tight')\n",
    "plt.show()"
   ]
  },
  {
   "cell_type": "code",
   "execution_count": null,
   "metadata": {},
   "outputs": [],
   "source": [
    "south_wind_x = south_hem_df[\"latitude\"]\n",
    "south_wind_y = south_hem_df[\"windspeed\"]\n",
    "south_wind_line_colors = ['green']\n",
    "south_wind_scat = plt.scatter(south_wind_x, south_wind_y, c= south_wind_line_colors, edgecolors = \"black\")\n",
    "plt.title(\"Northern Hemisphere Latitude vs Windspeed\")\n",
    "plt.xlabel(\"Latitude\")\n",
    "plt.ylabel(\"Windspeed\")\n",
    "\n",
    "sw = stats.linregress(south_wind_x, south_wind_y)\n",
    "sw_slope = sw.slope\n",
    "sw_int = sw.intercept\n",
    "#north_hum_x = north_x_line\n",
    "swformula = south_wind_x * sw_slope + sw_int\n",
    "\n",
    "swequation = \"y = \" + str(round(sw_slope,2)) + \"x + \" + str(round(sw_int,2))\n",
    "\n",
    "plt.annotate(swequation,(0,10),fontsize=15,color=\"blue\")\n",
    "plt.plot(south_wind_x, swformula)\n",
    "\n",
    "plt.savefig('Resources/south_wind.png', dpi=300, bbox_inches='tight')\n",
    "plt.show()"
   ]
  },
  {
   "cell_type": "code",
   "execution_count": null,
   "metadata": {},
   "outputs": [],
   "source": []
  }
 ],
 "metadata": {
  "kernelspec": {
   "display_name": "Python 3 (ipykernel)",
   "language": "python",
   "name": "python3"
  },
  "language_info": {
   "codemirror_mode": {
    "name": "ipython",
    "version": 3
   },
   "file_extension": ".py",
   "mimetype": "text/x-python",
   "name": "python",
   "nbconvert_exporter": "python",
   "pygments_lexer": "ipython3",
   "version": "3.8.13"
  },
  "vscode": {
   "interpreter": {
    "hash": "a12fee252e5aa476c9b33cb4f501862917c1a17d3be22bee6400bdc84f03ff76"
   }
  }
 },
 "nbformat": 4,
 "nbformat_minor": 2
}
